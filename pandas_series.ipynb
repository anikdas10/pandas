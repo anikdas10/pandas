{
 "cells": [
  {
   "cell_type": "code",
   "execution_count": 5,
   "id": "d4d08771",
   "metadata": {},
   "outputs": [],
   "source": [
    "import pandas as pd\n",
    "import numpy as np"
   ]
  },
  {
   "cell_type": "markdown",
   "id": "8ce2bbba",
   "metadata": {},
   "source": [
    "series from lists"
   ]
  },
  {
   "cell_type": "code",
   "execution_count": 6,
   "id": "91b3c6d3",
   "metadata": {},
   "outputs": [
    {
     "data": {
      "text/plain": [
       "0         India\n",
       "1      Pakistan\n",
       "2    Bangladesh\n",
       "3           USA\n",
       "4         Nepal\n",
       "5      Srilanka\n",
       "dtype: object"
      ]
     },
     "execution_count": 6,
     "metadata": {},
     "output_type": "execute_result"
    }
   ],
   "source": [
    "country = [\"India\", \"Pakistan\", \"Bangladesh\", \"USA\", \"Nepal\", \"Srilanka\"]\n",
    "pd.Series(country)"
   ]
  },
  {
   "cell_type": "code",
   "execution_count": null,
   "id": "8a93b5ce",
   "metadata": {},
   "outputs": [
    {
     "data": {
      "text/plain": [
       "0     31\n",
       "1     24\n",
       "2     56\n",
       "3     78\n",
       "4    100\n",
       "dtype: int64"
      ]
     },
     "execution_count": 7,
     "metadata": {},
     "output_type": "execute_result"
    }
   ],
   "source": [
    "# integers\n",
    "\n",
    "runs = [31, 24, 56, 78, 100]\n",
    "pd.Series(runs )"
   ]
  },
  {
   "cell_type": "code",
   "execution_count": 9,
   "id": "5f6e7398",
   "metadata": {},
   "outputs": [
    {
     "data": {
      "text/plain": [
       "maths       67\n",
       "english     57\n",
       "science     89\n",
       "bangla     100\n",
       "dtype: int64"
      ]
     },
     "execution_count": 9,
     "metadata": {},
     "output_type": "execute_result"
    }
   ],
   "source": [
    "# custom index\n",
    "marks = [67, 57, 89, 100]\n",
    "subjects = [\"maths\", \"english\", \"science\", \"bangla\"]\n",
    "\n",
    "pd.Series(marks, index=subjects)"
   ]
  },
  {
   "cell_type": "code",
   "execution_count": 12,
   "id": "d258fd35",
   "metadata": {},
   "outputs": [
    {
     "data": {
      "text/plain": [
       "maths       67\n",
       "english     57\n",
       "science     89\n",
       "bangla     100\n",
       "Name: Anik's marks, dtype: int64"
      ]
     },
     "execution_count": 12,
     "metadata": {},
     "output_type": "execute_result"
    }
   ],
   "source": [
    "# setting a name\n",
    "mark = pd.Series(marks, index=subjects, name=\"Anik's marks\")\n",
    "mark"
   ]
  },
  {
   "cell_type": "markdown",
   "id": "d774b5fa",
   "metadata": {},
   "source": [
    "series from dictionary\n",
    "\n"
   ]
  },
  {
   "cell_type": "code",
   "execution_count": 14,
   "id": "3c60fc2d",
   "metadata": {},
   "outputs": [
    {
     "data": {
      "text/plain": [
       "maths       67\n",
       "english     57\n",
       "science     89\n",
       "bangla     100\n",
       "Name: Anik's marks, dtype: int64"
      ]
     },
     "execution_count": 14,
     "metadata": {},
     "output_type": "execute_result"
    }
   ],
   "source": [
    "marks = {\"maths\": 67, \"english\": 57, \"science\": 89, \"bangla\": 100}\n",
    "\n",
    "marks_Series = pd.Series(marks, name=\"Anik's marks\")\n",
    "marks_Series"
   ]
  },
  {
   "cell_type": "markdown",
   "id": "6eec6ac9",
   "metadata": {},
   "source": [
    "series Attributes"
   ]
  },
  {
   "cell_type": "code",
   "execution_count": 18,
   "id": "fcd6cf14",
   "metadata": {},
   "outputs": [
    {
     "data": {
      "text/plain": [
       "4"
      ]
     },
     "execution_count": 18,
     "metadata": {},
     "output_type": "execute_result"
    }
   ],
   "source": [
    "# size\n",
    "marks_Series.size"
   ]
  },
  {
   "cell_type": "code",
   "execution_count": 19,
   "id": "92124ee5",
   "metadata": {},
   "outputs": [
    {
     "data": {
      "text/plain": [
       "dtype('int64')"
      ]
     },
     "execution_count": 19,
     "metadata": {},
     "output_type": "execute_result"
    }
   ],
   "source": [
    "# dtype\n",
    "marks_Series.dtype"
   ]
  },
  {
   "cell_type": "code",
   "execution_count": 20,
   "id": "850e01c8",
   "metadata": {},
   "outputs": [
    {
     "data": {
      "text/plain": [
       "\"Anik's marks\""
      ]
     },
     "execution_count": 20,
     "metadata": {},
     "output_type": "execute_result"
    }
   ],
   "source": [
    "# name\n",
    "marks_Series.name"
   ]
  },
  {
   "cell_type": "code",
   "execution_count": 24,
   "id": "a8413015",
   "metadata": {},
   "outputs": [
    {
     "data": {
      "text/plain": [
       "False"
      ]
     },
     "execution_count": 24,
     "metadata": {},
     "output_type": "execute_result"
    }
   ],
   "source": [
    "# is_unique(returns true or false)\n",
    "\n",
    "marks_Series.is_unique\n",
    "pd.Series([1, 1, 2, 3, 1]).is_unique"
   ]
  },
  {
   "cell_type": "code",
   "execution_count": 25,
   "id": "56bcb734",
   "metadata": {},
   "outputs": [
    {
     "data": {
      "text/plain": [
       "Index(['maths', 'english', 'science', 'bangla'], dtype='object')"
      ]
     },
     "execution_count": 25,
     "metadata": {},
     "output_type": "execute_result"
    }
   ],
   "source": [
    "# index\n",
    "marks_Series.index"
   ]
  },
  {
   "cell_type": "code",
   "execution_count": null,
   "id": "e22e02d3",
   "metadata": {},
   "outputs": [
    {
     "data": {
      "text/plain": [
       "array([ 67,  57,  89, 100])"
      ]
     },
     "execution_count": 26,
     "metadata": {},
     "output_type": "execute_result"
    }
   ],
   "source": [
    "# values (returns a numpy array)\n",
    "marks_Series.values"
   ]
  },
  {
   "cell_type": "markdown",
   "id": "a60ff4f0",
   "metadata": {},
   "source": [
    "series using read_csv"
   ]
  },
  {
   "cell_type": "code",
   "execution_count": 42,
   "id": "5d7d8a46",
   "metadata": {},
   "outputs": [
    {
     "data": {
      "text/plain": [
       "0                Accounting/Finance\n",
       "1      Advertising/Public Relations\n",
       "2                Aerospace/Aviation\n",
       "3     Arts/Entertainment/Publishing\n",
       "4                        Automotive\n",
       "5                  Banking/Mortgage\n",
       "6              Business Development\n",
       "7              Business Opportunity\n",
       "8           Clerical/Administrative\n",
       "9           Construction/Facilities\n",
       "10                   Consumer Goods\n",
       "11                 Customer Service\n",
       "12               Education/Training\n",
       "13                 Energy/Utilities\n",
       "14                      Engineering\n",
       "15              Government/Military\n",
       "16                            Green\n",
       "17                       Healthcare\n",
       "18               Hospitality/Travel\n",
       "19                  Human Resources\n",
       "20         Installation/Maintenance\n",
       "21                        Insurance\n",
       "22                         Internet\n",
       "23                  Job Search Aids\n",
       "24         Law Enforcement/Security\n",
       "25                            Legal\n",
       "26             Management/Executive\n",
       "27         Manufacturing/Operations\n",
       "28                        Marketing\n",
       "29             Non-Profit/Volunteer\n",
       "30           Pharmaceutical/Biotech\n",
       "31            Professional Services\n",
       "32               QA/Quality Control\n",
       "33                      Real Estate\n",
       "34          Restaurant/Food Service\n",
       "35                           Retail\n",
       "36                            Sales\n",
       "37                 Science/Research\n",
       "38                    Skilled Labor\n",
       "39                       Technology\n",
       "40               Telecommunications\n",
       "41         Transportation/Logistics\n",
       "42                            Other\n",
       "Name: Industry, dtype: object"
      ]
     },
     "execution_count": 42,
     "metadata": {},
     "output_type": "execute_result"
    }
   ],
   "source": [
    "# with one col\n",
    "data = pd.read_csv(\"./csv_file/industry.csv\", usecols=[0]).squeeze(\"columns\")\n",
    "data"
   ]
  },
  {
   "cell_type": "code",
   "execution_count": 75,
   "id": "c1206054",
   "metadata": {},
   "outputs": [
    {
     "name": "stdout",
     "output_type": "stream",
     "text": [
      "SIC Code\n",
      "1110     Growing of cereals (except rice), leguminous c...\n",
      "1120                                       Growing of rice\n",
      "1130     Growing of vegetables and melons, roots and tu...\n",
      "1140                                 Growing of sugar cane\n",
      "1150                                    Growing of tobacco\n",
      "                               ...                        \n",
      "98000                        Residents property management\n",
      "98100    Undifferentiated goods-producing activities of...\n",
      "98200    Undifferentiated service-producing activities ...\n",
      "99000    Activities of extraterritorial organizations a...\n",
      "99999                                      Dormant Company\n",
      "Name: Description, Length: 731, dtype: object\n",
      "<class 'pandas.core.series.Series'>\n"
     ]
    }
   ],
   "source": [
    "# with two column\n",
    "data = pd.read_csv(\n",
    "    \"./csv_file/industry_sic.csv\",\n",
    "    index_col=\"SIC Code\",\n",
    ").squeeze(\"columns\")\n",
    "print(data)\n",
    "print(type(data))"
   ]
  },
  {
   "cell_type": "markdown",
   "id": "a74b332a",
   "metadata": {},
   "source": [
    "series method"
   ]
  },
  {
   "cell_type": "code",
   "execution_count": null,
   "id": "db8339ad",
   "metadata": {},
   "outputs": [
    {
     "data": {
      "text/plain": [
       "SIC Code\n",
       "1110    Growing of cereals (except rice), leguminous c...\n",
       "1120                                      Growing of rice\n",
       "1130    Growing of vegetables and melons, roots and tu...\n",
       "1140                                Growing of sugar cane\n",
       "1150                                   Growing of tobacco\n",
       "Name: Description, dtype: object"
      ]
     },
     "execution_count": 76,
     "metadata": {},
     "output_type": "execute_result"
    }
   ],
   "source": [
    "# head and tail\n",
    "\n",
    "data.head() # by default is shows 5 data from the top"
   ]
  },
  {
   "cell_type": "code",
   "execution_count": 78,
   "id": "0865573a",
   "metadata": {},
   "outputs": [
    {
     "data": {
      "text/plain": [
       "SIC Code\n",
       "1110    Growing of cereals (except rice), leguminous c...\n",
       "1120                                      Growing of rice\n",
       "1130    Growing of vegetables and melons, roots and tu...\n",
       "1140                                Growing of sugar cane\n",
       "1150                                   Growing of tobacco\n",
       "1160                               Growing of fibre crops\n",
       "1190                 Growing of other non-perennial crops\n",
       "1210                                    Growing of grapes\n",
       "1220           Growing of tropical and subtropical fruits\n",
       "1230                             Growing of citrus fruits\n",
       "Name: Description, dtype: object"
      ]
     },
     "execution_count": 78,
     "metadata": {},
     "output_type": "execute_result"
    }
   ],
   "source": [
    "data.head(10)  # for custom data fetching"
   ]
  },
  {
   "cell_type": "code",
   "execution_count": null,
   "id": "f54fb189",
   "metadata": {},
   "outputs": [
    {
     "data": {
      "text/plain": [
       "SIC Code\n",
       "98000                        Residents property management\n",
       "98100    Undifferentiated goods-producing activities of...\n",
       "98200    Undifferentiated service-producing activities ...\n",
       "99000    Activities of extraterritorial organizations a...\n",
       "99999                                      Dormant Company\n",
       "Name: Description, dtype: object"
      ]
     },
     "execution_count": 79,
     "metadata": {},
     "output_type": "execute_result"
    }
   ],
   "source": [
    "data.tail()  # by default is shows 5 data from the bottom"
   ]
  },
  {
   "cell_type": "code",
   "execution_count": 80,
   "id": "dc3a3045",
   "metadata": {},
   "outputs": [
    {
     "data": {
      "text/plain": [
       "SIC Code\n",
       "96020              Hairdressing and other beauty treatment\n",
       "96030                       Funeral and related activities\n",
       "96040                       Physical well-being activities\n",
       "96090                      Other service activities n.e.c.\n",
       "97000    Activities of households as employers of domes...\n",
       "98000                        Residents property management\n",
       "98100    Undifferentiated goods-producing activities of...\n",
       "98200    Undifferentiated service-producing activities ...\n",
       "99000    Activities of extraterritorial organizations a...\n",
       "99999                                      Dormant Company\n",
       "Name: Description, dtype: object"
      ]
     },
     "execution_count": 80,
     "metadata": {},
     "output_type": "execute_result"
    }
   ],
   "source": [
    "data.tail(10)"
   ]
  },
  {
   "cell_type": "code",
   "execution_count": 103,
   "id": "305f94f3",
   "metadata": {},
   "outputs": [
    {
     "data": {
      "text/plain": [
       "SIC Code\n",
       "33150    Repair and maintenance of ships and boats\n",
       "Name: Description, dtype: object"
      ]
     },
     "execution_count": 103,
     "metadata": {},
     "output_type": "execute_result"
    }
   ],
   "source": [
    "# sample\n",
    "data.sample()  # randomly 1 data shown"
   ]
  },
  {
   "cell_type": "code",
   "execution_count": 108,
   "id": "62ca4e5e",
   "metadata": {},
   "outputs": [
    {
     "data": {
      "text/plain": [
       "SIC Code\n",
       "59131       Motion picture distribution activities\n",
       "23120         Shaping and processing of flat glass\n",
       "1240       Growing of pome fruits and stone fruits\n",
       "10890    Manufacture of other food products n.e.c.\n",
       "69203                              Tax consultancy\n",
       "Name: Description, dtype: object"
      ]
     },
     "execution_count": 108,
     "metadata": {},
     "output_type": "execute_result"
    }
   ],
   "source": [
    "data.sample(5)  # randomly 5 data shown"
   ]
  },
  {
   "cell_type": "code",
   "execution_count": 116,
   "id": "bf1ccd84",
   "metadata": {},
   "outputs": [
    {
     "data": {
      "text/plain": [
       "director\n",
       "Michael Bay          6\n",
       "Quentin Tarantino    4\n",
       "James Cameron        3\n",
       "Taika Waititi        3\n",
       "Ron Howard           2\n",
       "Ari Aster            2\n",
       "John Krasinski       1\n",
       "Name: count, dtype: int64"
      ]
     },
     "execution_count": 116,
     "metadata": {},
     "output_type": "execute_result"
    }
   ],
   "source": [
    "data = pd.read_csv(\n",
    "    \"./csv_file/movies.csv\", usecols=[\"movie_name\", \"director\"], index_col=\"movie_name\"\n",
    ").squeeze(\"columns\")\n",
    "\n",
    "data.value_counts()"
   ]
  },
  {
   "cell_type": "code",
   "execution_count": 125,
   "id": "d76dc122",
   "metadata": {},
   "outputs": [
    {
     "data": {
      "text/plain": [
       "movie_name\n",
       "Boy    Taika Waititi\n",
       "Name: director, dtype: object"
      ]
     },
     "execution_count": 125,
     "metadata": {},
     "output_type": "execute_result"
    }
   ],
   "source": [
    "data.sort_values(ascending=False).head(1)"
   ]
  },
  {
   "cell_type": "code",
   "execution_count": null,
   "id": "e17665ec",
   "metadata": {},
   "outputs": [
    {
     "data": {
      "text/plain": [
       "movie_name\n",
       "13 Hours                        Michael Bay\n",
       "6 Underground                   Michael Bay\n",
       "A Beautiful Mind                 Ron Howard\n",
       "A Quiet Place                John Krasinski\n",
       "Alien                         James Cameron\n",
       "Apollo 13                        Ron Howard\n",
       "Armageddon                      Michael Bay\n",
       "Avatar                        James Cameron\n",
       "Boy                           Taika Waititi\n",
       "Django Unchained          Quentin Tarantino\n",
       "Hereditary                        Ari Aster\n",
       "Inglourious Basterds      Quentin Tarantino\n",
       "Jojo Rabbit                   Taika Waititi\n",
       "Kill Bill Vol. 1          Quentin Tarantino\n",
       "Midsommar                         Ari Aster\n",
       "Pulp Fiction              Quentin Tarantino\n",
       "The Island                      Michael Bay\n",
       "The Rock                        Michael Bay\n",
       "Thor: Love and Thunder        Taika Waititi\n",
       "Titanic                       James Cameron\n",
       "Transformer                     Michael Bay\n",
       "Name: director, dtype: object"
      ]
     },
     "execution_count": 126,
     "metadata": {},
     "output_type": "execute_result"
    }
   ],
   "source": [
    "data.sort_index()"
   ]
  },
  {
   "cell_type": "markdown",
   "id": "211cf68c",
   "metadata": {},
   "source": [
    "Series maths methods"
   ]
  },
  {
   "cell_type": "code",
   "execution_count": 127,
   "id": "a4030d41",
   "metadata": {},
   "outputs": [
    {
     "data": {
      "text/plain": [
       "np.int64(21)"
      ]
     },
     "execution_count": 127,
     "metadata": {},
     "output_type": "execute_result"
    }
   ],
   "source": [
    "# count\n",
    "data.count()"
   ]
  },
  {
   "cell_type": "code",
   "execution_count": 129,
   "id": "c986b6cc",
   "metadata": {},
   "outputs": [
    {
     "data": {
      "text/plain": [
       "np.int64(313)"
      ]
     },
     "execution_count": 129,
     "metadata": {},
     "output_type": "execute_result"
    }
   ],
   "source": [
    "marks_Series.sum()"
   ]
  },
  {
   "cell_type": "code",
   "execution_count": 130,
   "id": "8bac516f",
   "metadata": {},
   "outputs": [
    {
     "data": {
      "text/plain": [
       "np.int64(33989100)"
      ]
     },
     "execution_count": 130,
     "metadata": {},
     "output_type": "execute_result"
    }
   ],
   "source": [
    "marks_Series.product()"
   ]
  },
  {
   "cell_type": "code",
   "execution_count": 131,
   "id": "177c2e46",
   "metadata": {},
   "outputs": [
    {
     "data": {
      "text/plain": [
       "np.float64(78.25)"
      ]
     },
     "execution_count": 131,
     "metadata": {},
     "output_type": "execute_result"
    }
   ],
   "source": [
    "# mean -> median -> mode -> std -> var\n",
    "marks_Series.mean()"
   ]
  },
  {
   "cell_type": "code",
   "execution_count": 132,
   "id": "8ea3622e",
   "metadata": {},
   "outputs": [
    {
     "data": {
      "text/plain": [
       "np.float64(78.0)"
      ]
     },
     "execution_count": 132,
     "metadata": {},
     "output_type": "execute_result"
    }
   ],
   "source": [
    "marks_Series.median()"
   ]
  },
  {
   "cell_type": "code",
   "execution_count": 134,
   "id": "d029b7ce",
   "metadata": {},
   "outputs": [
    {
     "data": {
      "text/plain": [
       "0    Michael Bay\n",
       "Name: director, dtype: object"
      ]
     },
     "execution_count": 134,
     "metadata": {},
     "output_type": "execute_result"
    }
   ],
   "source": [
    "data.mode()"
   ]
  },
  {
   "cell_type": "code",
   "execution_count": 136,
   "id": "4f9ba494",
   "metadata": {},
   "outputs": [
    {
     "data": {
      "text/plain": [
       "np.float64(388.9166666666667)"
      ]
     },
     "execution_count": 136,
     "metadata": {},
     "output_type": "execute_result"
    }
   ],
   "source": [
    "marks_Series.var()"
   ]
  },
  {
   "cell_type": "code",
   "execution_count": 138,
   "id": "909ee277",
   "metadata": {},
   "outputs": [
    {
     "data": {
      "text/plain": [
       "np.int64(100)"
      ]
     },
     "execution_count": 138,
     "metadata": {},
     "output_type": "execute_result"
    }
   ],
   "source": [
    "# min/max\n",
    "\n",
    "marks_Series.min()\n",
    "marks_Series.max()"
   ]
  },
  {
   "cell_type": "code",
   "execution_count": 139,
   "id": "4336f59c",
   "metadata": {},
   "outputs": [
    {
     "data": {
      "text/plain": [
       "count      4.00000\n",
       "mean      78.25000\n",
       "std       19.72097\n",
       "min       57.00000\n",
       "25%       64.50000\n",
       "50%       78.00000\n",
       "75%       91.75000\n",
       "max      100.00000\n",
       "Name: Anik's marks, dtype: float64"
      ]
     },
     "execution_count": 139,
     "metadata": {},
     "output_type": "execute_result"
    }
   ],
   "source": [
    "marks_Series.describe()"
   ]
  },
  {
   "cell_type": "code",
   "execution_count": 144,
   "id": "8b537de5",
   "metadata": {},
   "outputs": [],
   "source": [
    "vk = pd.read_csv(\"./csv_file/vk.csv\", index_col=\"match_no\").squeeze(\"columns\")"
   ]
  },
  {
   "cell_type": "code",
   "execution_count": 145,
   "id": "01945f60",
   "metadata": {},
   "outputs": [
    {
     "data": {
      "text/plain": [
       "count    225.000000\n",
       "mean      39.213333\n",
       "std       26.909883\n",
       "min        0.000000\n",
       "25%       16.000000\n",
       "50%       36.000000\n",
       "75%       60.000000\n",
       "max      100.000000\n",
       "Name: runs, dtype: float64"
      ]
     },
     "execution_count": 145,
     "metadata": {},
     "output_type": "execute_result"
    }
   ],
   "source": [
    "vk.describe()"
   ]
  },
  {
   "cell_type": "markdown",
   "id": "a25b0698",
   "metadata": {},
   "source": [
    "series indexing"
   ]
  },
  {
   "cell_type": "code",
   "execution_count": null,
   "id": "8a08fdb2",
   "metadata": {},
   "outputs": [
    {
     "data": {
      "text/plain": [
       "np.int64(23)"
      ]
     },
     "execution_count": 149,
     "metadata": {},
     "output_type": "execute_result"
    }
   ],
   "source": [
    "x = pd.Series([12, 13, 23, 43, 65, 26, 83, 1, 9])\n",
    "x[2] # negative indexing does not working "
   ]
  },
  {
   "cell_type": "code",
   "execution_count": 154,
   "id": "487b0a47",
   "metadata": {},
   "outputs": [
    {
     "name": "stderr",
     "output_type": "stream",
     "text": [
      "C:\\Users\\LENOVO\\AppData\\Local\\Temp\\ipykernel_17904\\4056024912.py:1: FutureWarning: Series.__getitem__ treating keys as positions is deprecated. In a future version, integer keys will always be treated as labels (consistent with DataFrame behavior). To access a value by position, use `ser.iloc[pos]`\n",
      "  data[-1]\n"
     ]
    },
    {
     "data": {
      "text/plain": [
       "'Michael Bay'"
      ]
     },
     "execution_count": 154,
     "metadata": {},
     "output_type": "execute_result"
    }
   ],
   "source": [
    "data[-1]"
   ]
  },
  {
   "cell_type": "code",
   "execution_count": 159,
   "id": "cabe0b89",
   "metadata": {},
   "outputs": [
    {
     "data": {
      "text/plain": [
       "match_no\n",
       "1      24\n",
       "3      72\n",
       "5      49\n",
       "7       5\n",
       "9      43\n",
       "       ..\n",
       "217    13\n",
       "219    31\n",
       "221     6\n",
       "223    10\n",
       "225    25\n",
       "Name: runs, Length: 113, dtype: int64"
      ]
     },
     "execution_count": 159,
     "metadata": {},
     "output_type": "execute_result"
    }
   ],
   "source": [
    "# slicing\n",
    "vk[::2]  # works similarly as np"
   ]
  },
  {
   "cell_type": "code",
   "execution_count": 158,
   "id": "63efbc25",
   "metadata": {},
   "outputs": [
    {
     "data": {
      "text/plain": [
       "movie_name\n",
       "Kill Bill Vol. 1    Quentin Tarantino\n",
       "Django Unchained    Quentin Tarantino\n",
       "Avatar                  James Cameron\n",
       "Alien                   James Cameron\n",
       "Apollo 13                  Ron Howard\n",
       "The Rock                  Michael Bay\n",
       "13 Hours                  Michael Bay\n",
       "A Quiet Place          John Krasinski\n",
       "Midsommar                   Ari Aster\n",
       "Jojo Rabbit             Taika Waititi\n",
       "6 Underground             Michael Bay\n",
       "Name: director, dtype: object"
      ]
     },
     "execution_count": 158,
     "metadata": {},
     "output_type": "execute_result"
    }
   ],
   "source": [
    "data[::2]"
   ]
  },
  {
   "cell_type": "code",
   "execution_count": 160,
   "id": "73162eaf",
   "metadata": {},
   "outputs": [
    {
     "data": {
      "text/plain": [
       "match_no\n",
       "1    24\n",
       "2    35\n",
       "3    72\n",
       "4     8\n",
       "5    49\n",
       "Name: runs, dtype: int64"
      ]
     },
     "execution_count": 160,
     "metadata": {},
     "output_type": "execute_result"
    }
   ],
   "source": [
    "# fancy indexing\n",
    "vk[[1, 2, 3, 4, 5]]"
   ]
  },
  {
   "cell_type": "markdown",
   "id": "100e828b",
   "metadata": {},
   "source": [
    "Editing series"
   ]
  },
  {
   "cell_type": "code",
   "execution_count": 161,
   "id": "0db17316",
   "metadata": {},
   "outputs": [
    {
     "data": {
      "text/plain": [
       "maths       67\n",
       "english     57\n",
       "science     89\n",
       "bangla     100\n",
       "Name: Anik's marks, dtype: int64"
      ]
     },
     "execution_count": 161,
     "metadata": {},
     "output_type": "execute_result"
    }
   ],
   "source": [
    "marks_Series"
   ]
  },
  {
   "cell_type": "code",
   "execution_count": 168,
   "id": "97ae63e5",
   "metadata": {},
   "outputs": [
    {
     "name": "stderr",
     "output_type": "stream",
     "text": [
      "C:\\Users\\LENOVO\\AppData\\Local\\Temp\\ipykernel_17904\\3981549266.py:2: FutureWarning: Series.__setitem__ treating keys as positions is deprecated. In a future version, integer keys will always be treated as labels (consistent with DataFrame behavior). To set a value by position, use `ser.iloc[pos] = value`\n",
      "  marks_Series[1] = 100\n"
     ]
    },
    {
     "data": {
      "text/plain": [
       "maths          88\n",
       "english       100\n",
       "science        89\n",
       "bangla        100\n",
       "statistics     88\n",
       "Name: Anik's marks, dtype: int64"
      ]
     },
     "execution_count": 168,
     "metadata": {},
     "output_type": "execute_result"
    }
   ],
   "source": [
    "# using indexing\n",
    "marks_Series[1] = 100\n",
    "\n",
    "marks_Series"
   ]
  },
  {
   "cell_type": "code",
   "execution_count": 169,
   "id": "f48d25af",
   "metadata": {},
   "outputs": [
    {
     "data": {
      "text/plain": [
       "maths          88\n",
       "english       100\n",
       "science        89\n",
       "bangla        100\n",
       "statistics     88\n",
       "Name: Anik's marks, dtype: int64"
      ]
     },
     "execution_count": 169,
     "metadata": {},
     "output_type": "execute_result"
    }
   ],
   "source": [
    "# what if an index does not exists\n",
    "marks_Series[\"statistics\"] = 88\n",
    "marks_Series"
   ]
  },
  {
   "cell_type": "code",
   "execution_count": 171,
   "id": "b57e32be",
   "metadata": {},
   "outputs": [
    {
     "data": {
      "text/plain": [
       "maths          88\n",
       "english       100\n",
       "science        90\n",
       "bangla         99\n",
       "statistics     88\n",
       "Name: Anik's marks, dtype: int64"
      ]
     },
     "execution_count": 171,
     "metadata": {},
     "output_type": "execute_result"
    }
   ],
   "source": [
    "# slicing\n",
    "marks_Series[2:4] = [90, 99]\n",
    "marks_Series"
   ]
  },
  {
   "cell_type": "code",
   "execution_count": 174,
   "id": "9e75fd33",
   "metadata": {},
   "outputs": [
    {
     "name": "stderr",
     "output_type": "stream",
     "text": [
      "C:\\Users\\LENOVO\\AppData\\Local\\Temp\\ipykernel_17904\\1248375887.py:2: FutureWarning: Series.__setitem__ treating keys as positions is deprecated. In a future version, integer keys will always be treated as labels (consistent with DataFrame behavior). To set a value by position, use `ser.iloc[pos] = value`\n",
      "  marks_Series[[1, 2, 4]] = [0, 0, 0]\n"
     ]
    },
    {
     "data": {
      "text/plain": [
       "maths         88\n",
       "english        0\n",
       "science        0\n",
       "bangla        99\n",
       "statistics     0\n",
       "Name: Anik's marks, dtype: int64"
      ]
     },
     "execution_count": 174,
     "metadata": {},
     "output_type": "execute_result"
    }
   ],
   "source": [
    "# fancy indexing\n",
    "marks_Series[[1, 2, 4]] = [0, 0, 0]\n",
    "marks_Series"
   ]
  },
  {
   "cell_type": "code",
   "execution_count": 179,
   "id": "ae764985",
   "metadata": {},
   "outputs": [
    {
     "data": {
      "text/plain": [
       "movie_name\n",
       "Kill Bill Vol. 1          Quentin Tarantino\n",
       "Pulp Fiction              Quentin Tarantino\n",
       "Django Unchained          Quentin Tarantino\n",
       "Inglourious Basterds      Quentin Tarantino\n",
       "Avatar                         Jhantu Saheb\n",
       "Titanic                       James Cameron\n",
       "Alien                         James Cameron\n",
       "A Beautiful Mind                 Ron Howard\n",
       "Apollo 13                        Ron Howard\n",
       "Armageddon                      Michael Bay\n",
       "The Rock                        Michael Bay\n",
       "Transformer                     Michael Bay\n",
       "13 Hours                        Michael Bay\n",
       "The Island                      Michael Bay\n",
       "A Quiet Place                John Krasinski\n",
       "Hereditary                        Ari Aster\n",
       "Midsommar                         Ari Aster\n",
       "Thor: Love and Thunder        Taika Waititi\n",
       "Jojo Rabbit                   Taika Waititi\n",
       "Boy                           Taika Waititi\n",
       "6 Underground                   Michael Bay\n",
       "Avatar                                 fuck\n",
       "Name: director, dtype: object"
      ]
     },
     "execution_count": 179,
     "metadata": {},
     "output_type": "execute_result"
    }
   ],
   "source": [
    "# using index label\n",
    "data[\"Avatar\"] = \"Jhantu Saheb\"\n",
    "data"
   ]
  },
  {
   "cell_type": "markdown",
   "id": "e7e3398a",
   "metadata": {},
   "source": [
    "Copy and Views"
   ]
  },
  {
   "cell_type": "markdown",
   "id": "960c3ab3",
   "metadata": {},
   "source": [
    "Series with python functionalities"
   ]
  },
  {
   "cell_type": "code",
   "execution_count": 185,
   "id": "04737977",
   "metadata": {},
   "outputs": [
    {
     "name": "stdout",
     "output_type": "stream",
     "text": [
      "225\n",
      "<class 'pandas.core.series.Series'>\n",
      "['T', '_AXIS_LEN', '_AXIS_ORDERS', '_AXIS_TO_AXIS_NUMBER', '_HANDLED_TYPES', '__abs__', '__add__', '__and__', '__annotations__', '__array__', '__array_priority__', '__array_ufunc__', '__bool__', '__class__', '__column_consortium_standard__', '__contains__', '__copy__', '__deepcopy__', '__delattr__', '__delitem__', '__dict__', '__dir__', '__divmod__', '__doc__', '__eq__', '__finalize__', '__float__', '__floordiv__', '__format__', '__ge__', '__getattr__', '__getattribute__', '__getitem__', '__getstate__', '__gt__', '__hash__', '__iadd__', '__iand__', '__ifloordiv__', '__imod__', '__imul__', '__init__', '__init_subclass__', '__int__', '__invert__', '__ior__', '__ipow__', '__isub__', '__iter__', '__itruediv__', '__ixor__', '__le__', '__len__', '__lt__', '__matmul__', '__mod__', '__module__', '__mul__', '__ne__', '__neg__', '__new__', '__nonzero__', '__or__', '__pandas_priority__', '__pos__', '__pow__', '__radd__', '__rand__', '__rdivmod__', '__reduce__', '__reduce_ex__', '__repr__', '__rfloordiv__', '__rmatmul__', '__rmod__', '__rmul__', '__ror__', '__round__', '__rpow__', '__rsub__', '__rtruediv__', '__rxor__', '__setattr__', '__setitem__', '__setstate__', '__sizeof__', '__str__', '__sub__', '__subclasshook__', '__truediv__', '__weakref__', '__xor__', '_accessors', '_accum_func', '_agg_examples_doc', '_agg_see_also_doc', '_align_for_op', '_align_frame', '_align_series', '_append', '_arith_method', '_as_manager', '_attrs', '_binop', '_cacher', '_can_hold_na', '_check_inplace_and_allows_duplicate_labels', '_check_is_chained_assignment_possible', '_check_label_or_level_ambiguity', '_check_setitem_copy', '_clear_item_cache', '_clip_with_one_bound', '_clip_with_scalar', '_cmp_method', '_consolidate', '_consolidate_inplace', '_construct_axes_dict', '_construct_result', '_constructor', '_constructor_expanddim', '_constructor_expanddim_from_mgr', '_constructor_from_mgr', '_data', '_deprecate_downcast', '_dir_additions', '_dir_deletions', '_drop_axis', '_drop_labels_or_levels', '_duplicated', '_find_valid_index', '_flags', '_flex_method', '_from_mgr', '_get_axis', '_get_axis_name', '_get_axis_number', '_get_axis_resolvers', '_get_block_manager_axis', '_get_bool_data', '_get_cacher', '_get_cleaned_column_resolvers', '_get_index_resolvers', '_get_label_or_level_values', '_get_numeric_data', '_get_rows_with_mask', '_get_value', '_get_values_tuple', '_get_with', '_getitem_slice', '_gotitem', '_hidden_attrs', '_indexed_same', '_info_axis', '_info_axis_name', '_info_axis_number', '_init_dict', '_init_mgr', '_inplace_method', '_internal_names', '_internal_names_set', '_is_cached', '_is_copy', '_is_label_or_level_reference', '_is_label_reference', '_is_level_reference', '_is_mixed_type', '_is_view', '_is_view_after_cow_rules', '_item_cache', '_ixs', '_logical_func', '_logical_method', '_map_values', '_maybe_update_cacher', '_memory_usage', '_metadata', '_mgr', '_min_count_stat_function', '_name', '_needs_reindex_multi', '_pad_or_backfill', '_protect_consolidate', '_reduce', '_references', '_reindex_axes', '_reindex_indexer', '_reindex_multi', '_reindex_with_indexers', '_rename', '_replace_single', '_repr_data_resource_', '_repr_latex_', '_reset_cache', '_reset_cacher', '_set_as_cached', '_set_axis', '_set_axis_name', '_set_axis_nocheck', '_set_is_copy', '_set_labels', '_set_name', '_set_value', '_set_values', '_set_with', '_set_with_engine', '_shift_with_freq', '_slice', '_stat_function', '_stat_function_ddof', '_take_with_is_copy', '_to_latex_via_styler', '_typ', '_update_inplace', '_validate_dtype', '_values', '_where', 'abs', 'add', 'add_prefix', 'add_suffix', 'agg', 'aggregate', 'align', 'all', 'any', 'apply', 'argmax', 'argmin', 'argsort', 'array', 'asfreq', 'asof', 'astype', 'at', 'at_time', 'attrs', 'autocorr', 'axes', 'backfill', 'between', 'between_time', 'bfill', 'bool', 'case_when', 'clip', 'combine', 'combine_first', 'compare', 'convert_dtypes', 'copy', 'corr', 'count', 'cov', 'cummax', 'cummin', 'cumprod', 'cumsum', 'describe', 'diff', 'div', 'divide', 'divmod', 'dot', 'drop', 'drop_duplicates', 'droplevel', 'dropna', 'dtype', 'dtypes', 'duplicated', 'empty', 'eq', 'equals', 'ewm', 'expanding', 'explode', 'factorize', 'ffill', 'fillna', 'filter', 'first', 'first_valid_index', 'flags', 'floordiv', 'ge', 'get', 'groupby', 'gt', 'hasnans', 'head', 'hist', 'iat', 'idxmax', 'idxmin', 'iloc', 'index', 'infer_objects', 'info', 'interpolate', 'is_monotonic_decreasing', 'is_monotonic_increasing', 'is_unique', 'isin', 'isna', 'isnull', 'item', 'items', 'keys', 'kurt', 'kurtosis', 'last', 'last_valid_index', 'le', 'list', 'loc', 'lt', 'map', 'mask', 'max', 'mean', 'median', 'memory_usage', 'min', 'mod', 'mode', 'mul', 'multiply', 'name', 'nbytes', 'ndim', 'ne', 'nlargest', 'notna', 'notnull', 'nsmallest', 'nunique', 'pad', 'pct_change', 'pipe', 'plot', 'pop', 'pow', 'prod', 'product', 'quantile', 'radd', 'rank', 'ravel', 'rdiv', 'rdivmod', 'reindex', 'reindex_like', 'rename', 'rename_axis', 'reorder_levels', 'repeat', 'replace', 'resample', 'reset_index', 'rfloordiv', 'rmod', 'rmul', 'rolling', 'round', 'rpow', 'rsub', 'rtruediv', 'sample', 'searchsorted', 'sem', 'set_axis', 'set_flags', 'shape', 'shift', 'size', 'skew', 'sort_index', 'sort_values', 'squeeze', 'std', 'struct', 'sub', 'subtract', 'sum', 'swapaxes', 'swaplevel', 'tail', 'take', 'to_clipboard', 'to_csv', 'to_dict', 'to_excel', 'to_frame', 'to_hdf', 'to_json', 'to_latex', 'to_list', 'to_markdown', 'to_numpy', 'to_period', 'to_pickle', 'to_sql', 'to_string', 'to_timestamp', 'to_xarray', 'transform', 'transpose', 'truediv', 'truncate', 'tz_convert', 'tz_localize', 'unique', 'unstack', 'update', 'value_counts', 'values', 'var', 'view', 'where', 'xs']\n",
      "[0, 0, 0, 0, 0, 0, 0, 2, 2, 2, 3, 3, 3, 3, 4, 5, 5, 5, 5, 6, 6, 6, 6, 6, 7, 7, 8, 8, 8, 8, 9, 9, 9, 9, 9, 10, 10, 11, 11, 11, 11, 11, 12, 12, 12, 13, 13, 13, 13, 14, 14, 14, 15, 15, 15, 16, 16, 17, 17, 17, 17, 17, 18, 18, 18, 18, 19, 19, 19, 19, 20, 20, 21, 21, 22, 22, 22, 23, 23, 24, 24, 25, 25, 25, 25, 26, 26, 27, 27, 28, 28, 28, 29, 29, 30, 30, 30, 31, 31, 31, 31, 32, 33, 33, 33, 33, 33, 34, 35, 35, 35, 36, 36, 36, 36, 37, 37, 38, 38, 38, 39, 39, 39, 39, 40, 41, 41, 41, 42, 42, 43, 44, 44, 44, 44, 44, 45, 45, 46, 46, 46, 47, 47, 47, 48, 48, 49, 49, 49, 50, 50, 51, 51, 52, 52, 53, 53, 55, 55, 56, 56, 57, 58, 58, 58, 58, 59, 59, 60, 60, 60, 61, 61, 61, 62, 62, 63, 64, 64, 66, 66, 66, 67, 67, 68, 68, 69, 69, 69, 70, 70, 72, 72, 73, 73, 73, 74, 74, 75, 77, 77, 77, 79, 79, 80, 81, 81, 82, 84, 85, 86, 88, 88, 90, 90, 90, 91, 91, 93, 93, 95, 99, 99, 100, 100]\n",
      "0\n",
      "100\n"
     ]
    }
   ],
   "source": [
    "# len/type / dir/sorted/max/min\n",
    "print(len(vk))\n",
    "print(type(vk))\n",
    "print(dir(vk))\n",
    "print(sorted(vk))\n",
    "print(min(vk))\n",
    "print(max(vk))"
   ]
  },
  {
   "cell_type": "code",
   "execution_count": 188,
   "id": "78162fc2",
   "metadata": {},
   "outputs": [
    {
     "data": {
      "text/plain": [
       "{'maths': np.int64(88),\n",
       " 'english': np.int64(0),\n",
       " 'science': np.int64(0),\n",
       " 'bangla': np.int64(99),\n",
       " 'statistics': np.int64(0)}"
      ]
     },
     "execution_count": 188,
     "metadata": {},
     "output_type": "execute_result"
    }
   ],
   "source": [
    "# type conversion\n",
    "list(marks_Series)\n",
    "dict(marks_Series)"
   ]
  },
  {
   "cell_type": "code",
   "execution_count": 190,
   "id": "5dd95bda",
   "metadata": {},
   "outputs": [
    {
     "data": {
      "text/plain": [
       "True"
      ]
     },
     "execution_count": 190,
     "metadata": {},
     "output_type": "execute_result"
    }
   ],
   "source": [
    "# membership operator\n",
    "\n",
    "\"Alien\" in data"
   ]
  },
  {
   "cell_type": "code",
   "execution_count": 192,
   "id": "c68e9962",
   "metadata": {},
   "outputs": [
    {
     "name": "stdout",
     "output_type": "stream",
     "text": [
      "Kill Bill Vol. 1\n",
      "Pulp Fiction\n",
      "Django Unchained\n",
      "Inglourious Basterds\n",
      "Avatar\n",
      "Titanic\n",
      "Alien\n",
      "A Beautiful Mind\n",
      "Apollo 13\n",
      "Armageddon\n",
      "The Rock\n",
      "Transformer\n",
      "13 Hours\n",
      "The Island\n",
      "A Quiet Place\n",
      "Hereditary\n",
      "Midsommar\n",
      "Thor: Love and Thunder\n",
      "Jojo Rabbit\n",
      "Boy\n",
      "6 Underground\n",
      "Avatar \n"
     ]
    }
   ],
   "source": [
    "# looping\n",
    "\n",
    "for i in data.index:\n",
    "    print(i)"
   ]
  },
  {
   "cell_type": "code",
   "execution_count": 195,
   "id": "86f659ee",
   "metadata": {},
   "outputs": [
    {
     "data": {
      "text/plain": [
       "maths         188\n",
       "english       100\n",
       "science       100\n",
       "bangla        199\n",
       "statistics    100\n",
       "Name: Anik's marks, dtype: int64"
      ]
     },
     "execution_count": 195,
     "metadata": {},
     "output_type": "execute_result"
    }
   ],
   "source": [
    "# Arithmetic operators\n",
    "100 + marks_Series"
   ]
  },
  {
   "cell_type": "code",
   "execution_count": 198,
   "id": "16320dea",
   "metadata": {},
   "outputs": [
    {
     "data": {
      "text/plain": [
       "match_no\n",
       "3       72\n",
       "8      100\n",
       "10      67\n",
       "12      59\n",
       "15      88\n",
       "      ... \n",
       "216     56\n",
       "218     69\n",
       "220     74\n",
       "222     82\n",
       "224     58\n",
       "Name: runs, Length: 76, dtype: int64"
      ]
     },
     "execution_count": 198,
     "metadata": {},
     "output_type": "execute_result"
    }
   ],
   "source": [
    "# Relational operators\n",
    "vk[vk >= 50]"
   ]
  },
  {
   "cell_type": "code",
   "execution_count": 201,
   "id": "aad697ee",
   "metadata": {},
   "outputs": [
    {
     "data": {
      "text/plain": [
       "7"
      ]
     },
     "execution_count": 201,
     "metadata": {},
     "output_type": "execute_result"
    }
   ],
   "source": [
    "# find number of ducks\n",
    "vk[vk == 0].size"
   ]
  },
  {
   "cell_type": "code",
   "execution_count": null,
   "id": "60657ec1",
   "metadata": {},
   "outputs": [],
   "source": []
  },
  {
   "cell_type": "code",
   "execution_count": 207,
   "id": "57017a4a",
   "metadata": {},
   "outputs": [
    {
     "data": {
      "text/plain": [
       "director\n",
       "Michael Bay    6\n",
       "Name: count, dtype: int64"
      ]
     },
     "execution_count": 207,
     "metadata": {},
     "output_type": "execute_result"
    }
   ],
   "source": [
    "# find director who have done more than 20 movies\n",
    "\n",
    "num_movies = data.value_counts()\n",
    "num_movies[num_movies > 5]"
   ]
  },
  {
   "cell_type": "code",
   "execution_count": 208,
   "id": "6e3dd2f4",
   "metadata": {},
   "outputs": [
    {
     "data": {
      "text/plain": [
       "<Axes: xlabel='match_no'>"
      ]
     },
     "execution_count": 208,
     "metadata": {},
     "output_type": "execute_result"
    },
    {
     "data": {
      "image/png": "[encoded data removed]",
      "text/plain": [
       "<Figure size 640x480 with 1 Axes>"
      ]
     },
     "metadata": {},
     "output_type": "display_data"
    }
   ],
   "source": [
    "vk.plot()"
   ]
  },
  {
   "cell_type": "code",
   "execution_count": 214,
   "id": "55e35e38",
   "metadata": {},
   "outputs": [
    {
     "data": {
      "text/plain": [
       "<Axes: xlabel='director'>"
      ]
     },
     "execution_count": 214,
     "metadata": {},
     "output_type": "execute_result"
    },
    {
     "data": {
      "image/png": "[encoded data removed]",
      "text/plain": [
       "<Figure size 640x480 with 1 Axes>"
      ]
     },
     "metadata": {},
     "output_type": "display_data"
    }
   ],
   "source": [
    "data.value_counts().head(5).plot(kind=\"bar\")"
   ]
  }
 ],
 "metadata": {
  "kernelspec": {
   "display_name": "Python 3",
   "language": "python",
   "name": "python3"
  },
  "language_info": {
   "codemirror_mode": {
    "name": "ipython",
    "version": 3
   },
   "file_extension": ".py",
   "mimetype": "text/x-python",
   "name": "python",
   "nbconvert_exporter": "python",
   "pygments_lexer": "ipython3",
   "version": "3.12.10"
  }
 },
 "nbformat": 4,
 "nbformat_minor": 5
}
